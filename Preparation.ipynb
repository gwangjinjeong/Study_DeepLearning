{
  "nbformat": 4,
  "nbformat_minor": 0,
  "metadata": {
    "colab": {
      "name": "Preparation.ipynb",
      "provenance": [],
      "authorship_tag": "ABX9TyOZ9uldVbSKJNanimjyWnIi",
      "include_colab_link": true
    },
    "kernelspec": {
      "name": "python3",
      "display_name": "Python 3"
    },
    "language_info": {
      "name": "python"
    }
  },
  "cells": [
    {
      "cell_type": "markdown",
      "metadata": {
        "id": "view-in-github",
        "colab_type": "text"
      },
      "source": [
        "<a href=\"https://colab.research.google.com/github/gwangjinjeong/Study_DeepLearning/blob/main/Preparation.ipynb\" target=\"_parent\"><img src=\"https://colab.research.google.com/assets/colab-badge.svg\" alt=\"Open In Colab\"/></a>"
      ]
    },
    {
      "cell_type": "markdown",
      "source": [
        "# Praparation"
      ],
      "metadata": {
        "id": "pxKN-owecMa5"
      }
    },
    {
      "cell_type": "code",
      "metadata": {
        "id": "h9azruMCeNA1"
      },
      "source": [
        "from google.colab import drive,files\n",
        "drive.mount('./gdrive')"
      ],
      "execution_count": null,
      "outputs": []
    },
    {
      "cell_type": "code",
      "metadata": {
        "id": "-aNrGQ1SWm0w"
      },
      "source": [
        "cd gdrive/MyDrive/TensorFlow"
      ],
      "execution_count": null,
      "outputs": []
    },
    {
      "cell_type": "code",
      "metadata": {
        "id": "ibpS6PNEdHJQ"
      },
      "source": [
        "!pip install tensorflow==2.5.0 ## for "
      ],
      "execution_count": null,
      "outputs": []
    },
    {
      "cell_type": "code",
      "source": [
        "import tensorflow as tf\n",
        "import numpy as np\n",
        "from tensorflow import keras"
      ],
      "metadata": {
        "id": "Jqjq0y5DcuUf"
      },
      "execution_count": null,
      "outputs": []
    }
  ]
}