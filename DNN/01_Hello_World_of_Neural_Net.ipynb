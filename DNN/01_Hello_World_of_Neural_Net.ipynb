{
  "nbformat": 4,
  "nbformat_minor": 0,
  "metadata": {
    "colab": {
      "name": "\b01_Hello World of Neural Net.ipynb",
      "provenance": [],
      "collapsed_sections": [],
      "include_colab_link": true
    },
    "kernelspec": {
      "name": "python3",
      "display_name": "Python 3"
    },
    "language_info": {
      "name": "python"
    }
  },
  "cells": [
    {
      "cell_type": "markdown",
      "metadata": {
        "id": "view-in-github",
        "colab_type": "text"
      },
      "source": [
        "<a href=\"https://colab.research.google.com/github/gwangjinjeong/Study_DeepLearning/blob/main/DNN/01_Hello_World_of_Neural_Net.ipynb\" target=\"_parent\"><img src=\"https://colab.research.google.com/assets/colab-badge.svg\" alt=\"Open In Colab\"/></a>"
      ]
    },
    {
      "cell_type": "code",
      "source": [
        "!pip install tensorflow==2.5.0"
      ],
      "metadata": {
        "id": "gKc4VYFayNy4"
      },
      "execution_count": null,
      "outputs": []
    },
    {
      "cell_type": "code",
      "source": [
        "import tensorflow as tf\n",
        "import numpy as np\n",
        "from tensorflow import keras"
      ],
      "metadata": {
        "id": "KT5fPHIZyRtU"
      },
      "execution_count": null,
      "outputs": []
    },
    {
      "cell_type": "code",
      "source": [
        "def twoXminusOne(n):\n",
        "  xs = np.array([-1.0, 0.0, 1.0, 2.0, 3.0, 4.0], dtype=float)\n",
        "  ys = np.array([-3.0, -1.0, 1.0, 3.0, 5.0, 7.0], dtype=float)\n",
        "\n",
        "  model = keras.Sequential([keras.layers.Dense(units=1, input_shape=[1])])\n",
        "  model.compile(optimizer='sgd', loss='mean_squared_error')\n",
        "  \n",
        "  model.fit(xs, ys, epochs=500)\n",
        "  return model.predict(n)[0]"
      ],
      "metadata": {
        "id": "wtCqBylKyTBE"
      },
      "execution_count": null,
      "outputs": []
    },
    {
      "cell_type": "code",
      "source": [
        "prediction = twoXminusOne([10])"
      ],
      "metadata": {
        "id": "0encFJ9Nyw6r"
      },
      "execution_count": null,
      "outputs": []
    },
    {
      "cell_type": "code",
      "source": [
        "print(prediction)"
      ],
      "metadata": {
        "colab": {
          "base_uri": "https://localhost:8080/"
        },
        "id": "8bPNnr-kzDSp",
        "outputId": "0c2fbbb2-b49c-4131-8b7b-90034a34b5c6"
      },
      "execution_count": null,
      "outputs": [
        {
          "output_type": "stream",
          "name": "stdout",
          "text": [
            "[18.984303]\n"
          ]
        }
      ]
    }
  ]
}